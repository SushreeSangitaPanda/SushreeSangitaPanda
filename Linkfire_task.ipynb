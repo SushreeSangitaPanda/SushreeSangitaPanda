{
 "cells": [
  {
   "cell_type": "code",
   "execution_count": 1,
   "id": "d911044c",
   "metadata": {},
   "outputs": [
    {
     "name": "stdout",
     "output_type": "stream",
     "text": [
      "[('events',)]\n"
     ]
    }
   ],
   "source": [
    "import pandas as pd\n",
    "import sqlite3\n",
    "import seaborn as sns\n",
    "import matplotlib.pyplot as plt\n",
    "\n",
    "con = sqlite3.connect(\"traffic.db\")\n",
    "cursor = con.cursor()\n",
    "\n",
    "cursor.execute(\"SELECT name FROM sqlite_master WHERE type='table';\")\n",
    "print(cursor.fetchall())"
   ]
  },
  {
   "cell_type": "markdown",
   "id": "f266eb44",
   "metadata": {},
   "source": [
    "# understanding the data"
   ]
  },
  {
   "cell_type": "code",
   "execution_count": 2,
   "id": "ee191b4d",
   "metadata": {},
   "outputs": [
    {
     "name": "stdout",
     "output_type": "stream",
     "text": [
      "\n",
      "Columns in Events table:\n",
      "event\n",
      "date\n",
      "country\n",
      "city\n",
      "artist\n",
      "album\n",
      "track\n",
      "isrc\n",
      "linkid\n"
     ]
    }
   ],
   "source": [
    "# Display columns\n",
    "print('\\nColumns in Events table:')\n",
    "data=cursor.execute('''SELECT * FROM events''')\n",
    "for column in data.description:\n",
    "    print(column[0])"
   ]
  },
  {
   "cell_type": "code",
   "execution_count": 3,
   "id": "502b88c9",
   "metadata": {},
   "outputs": [],
   "source": [
    "events_table = pd.read_sql_query(\"SELECT * FROM events\", con)\n"
   ]
  },
  {
   "cell_type": "code",
   "execution_count": 4,
   "id": "f96f27cc",
   "metadata": {},
   "outputs": [
    {
     "data": {
      "text/html": [
       "<div>\n",
       "<style scoped>\n",
       "    .dataframe tbody tr th:only-of-type {\n",
       "        vertical-align: middle;\n",
       "    }\n",
       "\n",
       "    .dataframe tbody tr th {\n",
       "        vertical-align: top;\n",
       "    }\n",
       "\n",
       "    .dataframe thead th {\n",
       "        text-align: right;\n",
       "    }\n",
       "</style>\n",
       "<table border=\"1\" class=\"dataframe\">\n",
       "  <thead>\n",
       "    <tr style=\"text-align: right;\">\n",
       "      <th></th>\n",
       "      <th>event</th>\n",
       "      <th>date</th>\n",
       "      <th>country</th>\n",
       "      <th>city</th>\n",
       "      <th>artist</th>\n",
       "      <th>album</th>\n",
       "      <th>track</th>\n",
       "      <th>isrc</th>\n",
       "      <th>linkid</th>\n",
       "    </tr>\n",
       "  </thead>\n",
       "  <tbody>\n",
       "    <tr>\n",
       "      <th>0</th>\n",
       "      <td>click</td>\n",
       "      <td>2021-08-21</td>\n",
       "      <td>Saudi Arabia</td>\n",
       "      <td>Jeddah</td>\n",
       "      <td>Tesher</td>\n",
       "      <td>Jalebi Baby</td>\n",
       "      <td>Jalebi Baby</td>\n",
       "      <td>QZNWQ2070741</td>\n",
       "      <td>2d896d31-97b6-4869-967b-1c5fb9cd4bb8</td>\n",
       "    </tr>\n",
       "    <tr>\n",
       "      <th>1</th>\n",
       "      <td>click</td>\n",
       "      <td>2021-08-21</td>\n",
       "      <td>Saudi Arabia</td>\n",
       "      <td>Jeddah</td>\n",
       "      <td>Tesher</td>\n",
       "      <td>Jalebi Baby</td>\n",
       "      <td>Jalebi Baby</td>\n",
       "      <td>QZNWQ2070741</td>\n",
       "      <td>2d896d31-97b6-4869-967b-1c5fb9cd4bb8</td>\n",
       "    </tr>\n",
       "    <tr>\n",
       "      <th>2</th>\n",
       "      <td>click</td>\n",
       "      <td>2021-08-21</td>\n",
       "      <td>India</td>\n",
       "      <td>Ludhiana</td>\n",
       "      <td>Reyanna Maria</td>\n",
       "      <td>So Pretty</td>\n",
       "      <td>So Pretty</td>\n",
       "      <td>USUM72100871</td>\n",
       "      <td>23199824-9cf5-4b98-942a-34965c3b0cc2</td>\n",
       "    </tr>\n",
       "    <tr>\n",
       "      <th>3</th>\n",
       "      <td>click</td>\n",
       "      <td>2021-08-21</td>\n",
       "      <td>France</td>\n",
       "      <td>Unknown</td>\n",
       "      <td>Simone &amp; Simaria, Sebastian Yatra</td>\n",
       "      <td>No Llores Más</td>\n",
       "      <td>No Llores Más</td>\n",
       "      <td>BRUM72003904</td>\n",
       "      <td>35573248-4e49-47c7-af80-08a960fa74cd</td>\n",
       "    </tr>\n",
       "    <tr>\n",
       "      <th>4</th>\n",
       "      <td>click</td>\n",
       "      <td>2021-08-21</td>\n",
       "      <td>Maldives</td>\n",
       "      <td>Malé</td>\n",
       "      <td>Tesher</td>\n",
       "      <td>Jalebi Baby</td>\n",
       "      <td>Jalebi Baby</td>\n",
       "      <td>QZNWQ2070741</td>\n",
       "      <td>2d896d31-97b6-4869-967b-1c5fb9cd4bb8</td>\n",
       "    </tr>\n",
       "  </tbody>\n",
       "</table>\n",
       "</div>"
      ],
      "text/plain": [
       "   event        date       country      city  \\\n",
       "0  click  2021-08-21  Saudi Arabia    Jeddah   \n",
       "1  click  2021-08-21  Saudi Arabia    Jeddah   \n",
       "2  click  2021-08-21         India  Ludhiana   \n",
       "3  click  2021-08-21        France   Unknown   \n",
       "4  click  2021-08-21      Maldives      Malé   \n",
       "\n",
       "                              artist          album          track  \\\n",
       "0                             Tesher    Jalebi Baby    Jalebi Baby   \n",
       "1                             Tesher    Jalebi Baby    Jalebi Baby   \n",
       "2                      Reyanna Maria      So Pretty      So Pretty   \n",
       "3  Simone & Simaria, Sebastian Yatra  No Llores Más  No Llores Más   \n",
       "4                             Tesher    Jalebi Baby    Jalebi Baby   \n",
       "\n",
       "           isrc                                linkid  \n",
       "0  QZNWQ2070741  2d896d31-97b6-4869-967b-1c5fb9cd4bb8  \n",
       "1  QZNWQ2070741  2d896d31-97b6-4869-967b-1c5fb9cd4bb8  \n",
       "2  USUM72100871  23199824-9cf5-4b98-942a-34965c3b0cc2  \n",
       "3  BRUM72003904  35573248-4e49-47c7-af80-08a960fa74cd  \n",
       "4  QZNWQ2070741  2d896d31-97b6-4869-967b-1c5fb9cd4bb8  "
      ]
     },
     "execution_count": 4,
     "metadata": {},
     "output_type": "execute_result"
    }
   ],
   "source": [
    "events_table.head()"
   ]
  },
  {
   "cell_type": "code",
   "execution_count": 5,
   "id": "21048182",
   "metadata": {},
   "outputs": [
    {
     "data": {
      "text/html": [
       "<div>\n",
       "<style scoped>\n",
       "    .dataframe tbody tr th:only-of-type {\n",
       "        vertical-align: middle;\n",
       "    }\n",
       "\n",
       "    .dataframe tbody tr th {\n",
       "        vertical-align: top;\n",
       "    }\n",
       "\n",
       "    .dataframe thead th {\n",
       "        text-align: right;\n",
       "    }\n",
       "</style>\n",
       "<table border=\"1\" class=\"dataframe\">\n",
       "  <thead>\n",
       "    <tr style=\"text-align: right;\">\n",
       "      <th></th>\n",
       "      <th>event</th>\n",
       "      <th>date</th>\n",
       "      <th>country</th>\n",
       "      <th>city</th>\n",
       "      <th>artist</th>\n",
       "      <th>album</th>\n",
       "      <th>track</th>\n",
       "      <th>isrc</th>\n",
       "      <th>linkid</th>\n",
       "    </tr>\n",
       "  </thead>\n",
       "  <tbody>\n",
       "    <tr>\n",
       "      <th>count</th>\n",
       "      <td>226278</td>\n",
       "      <td>226278</td>\n",
       "      <td>226267</td>\n",
       "      <td>226267</td>\n",
       "      <td>226241</td>\n",
       "      <td>226273</td>\n",
       "      <td>226273</td>\n",
       "      <td>219157</td>\n",
       "      <td>226278</td>\n",
       "    </tr>\n",
       "    <tr>\n",
       "      <th>unique</th>\n",
       "      <td>3</td>\n",
       "      <td>7</td>\n",
       "      <td>211</td>\n",
       "      <td>11993</td>\n",
       "      <td>2419</td>\n",
       "      <td>3254</td>\n",
       "      <td>3562</td>\n",
       "      <td>709</td>\n",
       "      <td>3839</td>\n",
       "    </tr>\n",
       "    <tr>\n",
       "      <th>top</th>\n",
       "      <td>pageview</td>\n",
       "      <td>2021-08-19</td>\n",
       "      <td>Saudi Arabia</td>\n",
       "      <td>Jeddah</td>\n",
       "      <td>Tesher</td>\n",
       "      <td>Jalebi Baby</td>\n",
       "      <td>Jalebi Baby</td>\n",
       "      <td>QZNWQ2070741</td>\n",
       "      <td>2d896d31-97b6-4869-967b-1c5fb9cd4bb8</td>\n",
       "    </tr>\n",
       "    <tr>\n",
       "      <th>freq</th>\n",
       "      <td>142015</td>\n",
       "      <td>35361</td>\n",
       "      <td>47334</td>\n",
       "      <td>22791</td>\n",
       "      <td>40841</td>\n",
       "      <td>40841</td>\n",
       "      <td>40841</td>\n",
       "      <td>40841</td>\n",
       "      <td>40841</td>\n",
       "    </tr>\n",
       "  </tbody>\n",
       "</table>\n",
       "</div>"
      ],
      "text/plain": [
       "           event        date       country    city  artist        album  \\\n",
       "count     226278      226278        226267  226267  226241       226273   \n",
       "unique         3           7           211   11993    2419         3254   \n",
       "top     pageview  2021-08-19  Saudi Arabia  Jeddah  Tesher  Jalebi Baby   \n",
       "freq      142015       35361         47334   22791   40841        40841   \n",
       "\n",
       "              track          isrc                                linkid  \n",
       "count        226273        219157                                226278  \n",
       "unique         3562           709                                  3839  \n",
       "top     Jalebi Baby  QZNWQ2070741  2d896d31-97b6-4869-967b-1c5fb9cd4bb8  \n",
       "freq          40841         40841                                 40841  "
      ]
     },
     "execution_count": 5,
     "metadata": {},
     "output_type": "execute_result"
    }
   ],
   "source": [
    "events_table.describe()"
   ]
  },
  {
   "cell_type": "code",
   "execution_count": 6,
   "id": "92e6950b",
   "metadata": {},
   "outputs": [
    {
     "name": "stdout",
     "output_type": "stream",
     "text": [
      "<class 'pandas.core.frame.DataFrame'>\n",
      "RangeIndex: 226278 entries, 0 to 226277\n",
      "Data columns (total 9 columns):\n",
      " #   Column   Non-Null Count   Dtype \n",
      "---  ------   --------------   ----- \n",
      " 0   event    226278 non-null  object\n",
      " 1   date     226278 non-null  object\n",
      " 2   country  226267 non-null  object\n",
      " 3   city     226267 non-null  object\n",
      " 4   artist   226241 non-null  object\n",
      " 5   album    226273 non-null  object\n",
      " 6   track    226273 non-null  object\n",
      " 7   isrc     219157 non-null  object\n",
      " 8   linkid   226278 non-null  object\n",
      "dtypes: object(9)\n",
      "memory usage: 15.5+ MB\n"
     ]
    }
   ],
   "source": [
    "events_table.info()"
   ]
  },
  {
   "cell_type": "code",
   "execution_count": 7,
   "id": "2282b491",
   "metadata": {},
   "outputs": [
    {
     "data": {
      "text/plain": [
       "event         0\n",
       "date          0\n",
       "country      11\n",
       "city         11\n",
       "artist       37\n",
       "album         5\n",
       "track         5\n",
       "isrc       7121\n",
       "linkid        0\n",
       "dtype: int64"
      ]
     },
     "execution_count": 7,
     "metadata": {},
     "output_type": "execute_result"
    }
   ],
   "source": [
    "#checking for nan values\n",
    "events_table.isnull().sum()"
   ]
  },
  {
   "cell_type": "code",
   "execution_count": 8,
   "id": "d48f4fee",
   "metadata": {},
   "outputs": [
    {
     "name": "stdout",
     "output_type": "stream",
     "text": [
      "\n",
      "Data in Events table:\n",
      "('click', '2021-08-21', 'Saudi Arabia', 'Jeddah', 'Tesher', 'Jalebi Baby', 'Jalebi Baby', 'QZNWQ2070741', '2d896d31-97b6-4869-967b-1c5fb9cd4bb8')\n",
      "('click', '2021-08-21', 'Saudi Arabia', 'Jeddah', 'Tesher', 'Jalebi Baby', 'Jalebi Baby', 'QZNWQ2070741', '2d896d31-97b6-4869-967b-1c5fb9cd4bb8')\n",
      "('click', '2021-08-21', 'India', 'Ludhiana', 'Reyanna Maria', 'So Pretty', 'So Pretty', 'USUM72100871', '23199824-9cf5-4b98-942a-34965c3b0cc2')\n",
      "('click', '2021-08-21', 'France', 'Unknown', 'Simone & Simaria, Sebastian Yatra', 'No Llores Más', 'No Llores Más', 'BRUM72003904', '35573248-4e49-47c7-af80-08a960fa74cd')\n",
      "('click', '2021-08-21', 'Maldives', 'Malé', 'Tesher', 'Jalebi Baby', 'Jalebi Baby', 'QZNWQ2070741', '2d896d31-97b6-4869-967b-1c5fb9cd4bb8')\n"
     ]
    }
   ],
   "source": [
    "# Display data\n",
    "print('\\nData in Events table:')\n",
    "data=cursor.execute('''SELECT * FROM events limit 5''')\n",
    "for row in data:\n",
    "    print(row)"
   ]
  },
  {
   "cell_type": "code",
   "execution_count": 9,
   "id": "305caf47",
   "metadata": {
    "scrolled": true
   },
   "outputs": [
    {
     "name": "stderr",
     "output_type": "stream",
     "text": [
      "C:\\Users\\Sushree\\anaconda3\\lib\\site-packages\\seaborn\\_decorators.py:36: FutureWarning: Pass the following variables as keyword args: x, y. From version 0.12, the only valid positional argument will be `data`, and passing other arguments without an explicit keyword will result in an error or misinterpretation.\n",
      "  warnings.warn(\n"
     ]
    },
    {
     "data": {
      "image/png": "[encoded data removed]",
      "text/plain": [
       "<Figure size 2736x1224 with 1 Axes>"
      ]
     },
     "metadata": {
      "needs_background": "light"
     },
     "output_type": "display_data"
    }
   ],
   "source": [
    "artist_count1 = events_table['artist'].value_counts()\n",
    "artist_count = artist_count1.head(10)\n",
    "plt.figure(figsize=(38,17))\n",
    "sns.set(style=\"darkgrid\")\n",
    "sns.barplot(artist_count.index, artist_count.values, palette=\"rocket\")\n",
    "plt.title('Frequency Distribution of top 10 Artists',fontsize=20)\n",
    "plt.ylabel('Number of Occurrences', fontsize=15)\n",
    "plt.xlabel('Artist', fontsize=25)\n",
    "plt.show()"
   ]
  },
  {
   "cell_type": "code",
   "execution_count": 10,
   "id": "272bb2b6",
   "metadata": {},
   "outputs": [
    {
     "name": "stderr",
     "output_type": "stream",
     "text": [
      "C:\\Users\\Sushree\\anaconda3\\lib\\site-packages\\seaborn\\_decorators.py:36: FutureWarning: Pass the following variables as keyword args: x, y. From version 0.12, the only valid positional argument will be `data`, and passing other arguments without an explicit keyword will result in an error or misinterpretation.\n",
      "  warnings.warn(\n"
     ]
    },
    {
     "data": {
      "image/png": "[encoded data removed]",
      "text/plain": [
       "<Figure size 2736x1224 with 1 Axes>"
      ]
     },
     "metadata": {},
     "output_type": "display_data"
    }
   ],
   "source": [
    "country_count1 = events_table['country'].value_counts()\n",
    "country_count = country_count1.head(15)\n",
    "plt.figure(figsize=(38,17))\n",
    "sns.set(style=\"darkgrid\")\n",
    "sns.barplot(country_count.index, country_count.values, palette=\"rocket\")\n",
    "plt.title('Frequency Distribution of top 15 countries',fontsize=20)\n",
    "plt.ylabel('Number of Occurrences', fontsize=15)\n",
    "plt.xlabel('country', fontsize=25)\n",
    "plt.show()"
   ]
  },
  {
   "cell_type": "code",
   "execution_count": 11,
   "id": "f24b3c8b",
   "metadata": {},
   "outputs": [
    {
     "name": "stderr",
     "output_type": "stream",
     "text": [
      "C:\\Users\\Sushree\\anaconda3\\lib\\site-packages\\seaborn\\_decorators.py:36: FutureWarning: Pass the following variables as keyword args: x, y. From version 0.12, the only valid positional argument will be `data`, and passing other arguments without an explicit keyword will result in an error or misinterpretation.\n",
      "  warnings.warn(\n"
     ]
    },
    {
     "data": {
      "image/png": "[encoded data removed]",
      "text/plain": [
       "<Figure size 2736x1224 with 1 Axes>"
      ]
     },
     "metadata": {},
     "output_type": "display_data"
    }
   ],
   "source": [
    "album_count1 = events_table['album'].value_counts()\n",
    "album_count = album_count1.head(10)\n",
    "plt.figure(figsize=(38,17))\n",
    "sns.set(style=\"darkgrid\")\n",
    "sns.barplot(album_count.index, album_count.values, palette=\"rocket\")\n",
    "plt.title('Frequency Distribution of top 10 albums',fontsize=20)\n",
    "plt.ylabel('Number of Occurrences', fontsize=15)\n",
    "plt.xlabel('Album', fontsize=25)\n",
    "plt.show()"
   ]
  },
  {
   "cell_type": "markdown",
   "id": "56d2364d",
   "metadata": {},
   "source": [
    "# Task"
   ]
  },
  {
   "cell_type": "markdown",
   "id": "ea5ddd0b",
   "metadata": {},
   "source": [
    "How many total pageview events did the links in the provided dataset receive in the full period, how many per day?"
   ]
  },
  {
   "cell_type": "code",
   "execution_count": 12,
   "id": "e875888b",
   "metadata": {},
   "outputs": [
    {
     "data": {
      "text/html": [
       "<div>\n",
       "<style scoped>\n",
       "    .dataframe tbody tr th:only-of-type {\n",
       "        vertical-align: middle;\n",
       "    }\n",
       "\n",
       "    .dataframe tbody tr th {\n",
       "        vertical-align: top;\n",
       "    }\n",
       "\n",
       "    .dataframe thead th {\n",
       "        text-align: right;\n",
       "    }\n",
       "</style>\n",
       "<table border=\"1\" class=\"dataframe\">\n",
       "  <thead>\n",
       "    <tr style=\"text-align: right;\">\n",
       "      <th></th>\n",
       "      <th>event</th>\n",
       "      <th>date</th>\n",
       "      <th>count(event)</th>\n",
       "      <th>total_events</th>\n",
       "    </tr>\n",
       "  </thead>\n",
       "  <tbody>\n",
       "    <tr>\n",
       "      <th>0</th>\n",
       "      <td>pageview</td>\n",
       "      <td>2021-08-19</td>\n",
       "      <td>22366</td>\n",
       "      <td>142015</td>\n",
       "    </tr>\n",
       "    <tr>\n",
       "      <th>1</th>\n",
       "      <td>pageview</td>\n",
       "      <td>2021-08-20</td>\n",
       "      <td>21382</td>\n",
       "      <td>142015</td>\n",
       "    </tr>\n",
       "    <tr>\n",
       "      <th>2</th>\n",
       "      <td>pageview</td>\n",
       "      <td>2021-08-21</td>\n",
       "      <td>21349</td>\n",
       "      <td>142015</td>\n",
       "    </tr>\n",
       "    <tr>\n",
       "      <th>3</th>\n",
       "      <td>pageview</td>\n",
       "      <td>2021-08-22</td>\n",
       "      <td>20430</td>\n",
       "      <td>142015</td>\n",
       "    </tr>\n",
       "    <tr>\n",
       "      <th>4</th>\n",
       "      <td>pageview</td>\n",
       "      <td>2021-08-23</td>\n",
       "      <td>18646</td>\n",
       "      <td>142015</td>\n",
       "    </tr>\n",
       "    <tr>\n",
       "      <th>5</th>\n",
       "      <td>pageview</td>\n",
       "      <td>2021-08-24</td>\n",
       "      <td>18693</td>\n",
       "      <td>142015</td>\n",
       "    </tr>\n",
       "    <tr>\n",
       "      <th>6</th>\n",
       "      <td>pageview</td>\n",
       "      <td>2021-08-25</td>\n",
       "      <td>19149</td>\n",
       "      <td>142015</td>\n",
       "    </tr>\n",
       "  </tbody>\n",
       "</table>\n",
       "</div>"
      ],
      "text/plain": [
       "      event        date  count(event)  total_events\n",
       "0  pageview  2021-08-19         22366        142015\n",
       "1  pageview  2021-08-20         21382        142015\n",
       "2  pageview  2021-08-21         21349        142015\n",
       "3  pageview  2021-08-22         20430        142015\n",
       "4  pageview  2021-08-23         18646        142015\n",
       "5  pageview  2021-08-24         18693        142015\n",
       "6  pageview  2021-08-25         19149        142015"
      ]
     },
     "execution_count": 12,
     "metadata": {},
     "output_type": "execute_result"
    }
   ],
   "source": [
    "total_pageview = pd.read_sql_query(\"select event, date, count(event), (select count(event)from events where event = 'pageview')total_events from events where event = 'pageview' group by event,date\",con)\n",
    "total_pageview"
   ]
  },
  {
   "cell_type": "markdown",
   "id": "c0022e15",
   "metadata": {},
   "source": [
    "What about the other recorded events?"
   ]
  },
  {
   "cell_type": "code",
   "execution_count": 13,
   "id": "4e052667",
   "metadata": {},
   "outputs": [
    {
     "data": {
      "text/html": [
       "<div>\n",
       "<style scoped>\n",
       "    .dataframe tbody tr th:only-of-type {\n",
       "        vertical-align: middle;\n",
       "    }\n",
       "\n",
       "    .dataframe tbody tr th {\n",
       "        vertical-align: top;\n",
       "    }\n",
       "\n",
       "    .dataframe thead th {\n",
       "        text-align: right;\n",
       "    }\n",
       "</style>\n",
       "<table border=\"1\" class=\"dataframe\">\n",
       "  <thead>\n",
       "    <tr style=\"text-align: right;\">\n",
       "      <th></th>\n",
       "      <th>event</th>\n",
       "      <th>date</th>\n",
       "      <th>count(event)</th>\n",
       "      <th>total_events</th>\n",
       "    </tr>\n",
       "  </thead>\n",
       "  <tbody>\n",
       "    <tr>\n",
       "      <th>0</th>\n",
       "      <td>click</td>\n",
       "      <td>2021-08-19</td>\n",
       "      <td>9207</td>\n",
       "      <td>55732</td>\n",
       "    </tr>\n",
       "    <tr>\n",
       "      <th>1</th>\n",
       "      <td>click</td>\n",
       "      <td>2021-08-20</td>\n",
       "      <td>8508</td>\n",
       "      <td>55732</td>\n",
       "    </tr>\n",
       "    <tr>\n",
       "      <th>2</th>\n",
       "      <td>click</td>\n",
       "      <td>2021-08-21</td>\n",
       "      <td>8071</td>\n",
       "      <td>55732</td>\n",
       "    </tr>\n",
       "    <tr>\n",
       "      <th>3</th>\n",
       "      <td>click</td>\n",
       "      <td>2021-08-22</td>\n",
       "      <td>7854</td>\n",
       "      <td>55732</td>\n",
       "    </tr>\n",
       "    <tr>\n",
       "      <th>4</th>\n",
       "      <td>click</td>\n",
       "      <td>2021-08-23</td>\n",
       "      <td>7315</td>\n",
       "      <td>55732</td>\n",
       "    </tr>\n",
       "    <tr>\n",
       "      <th>5</th>\n",
       "      <td>click</td>\n",
       "      <td>2021-08-24</td>\n",
       "      <td>7301</td>\n",
       "      <td>55732</td>\n",
       "    </tr>\n",
       "    <tr>\n",
       "      <th>6</th>\n",
       "      <td>click</td>\n",
       "      <td>2021-08-25</td>\n",
       "      <td>7476</td>\n",
       "      <td>55732</td>\n",
       "    </tr>\n",
       "  </tbody>\n",
       "</table>\n",
       "</div>"
      ],
      "text/plain": [
       "   event        date  count(event)  total_events\n",
       "0  click  2021-08-19          9207         55732\n",
       "1  click  2021-08-20          8508         55732\n",
       "2  click  2021-08-21          8071         55732\n",
       "3  click  2021-08-22          7854         55732\n",
       "4  click  2021-08-23          7315         55732\n",
       "5  click  2021-08-24          7301         55732\n",
       "6  click  2021-08-25          7476         55732"
      ]
     },
     "execution_count": 13,
     "metadata": {},
     "output_type": "execute_result"
    }
   ],
   "source": [
    "total_click = pd.read_sql_query(\"select event, date, count(event), (select count(event)from events where event = 'click')total_events from events where event = 'click' group by event,date\",con)\n",
    "total_click"
   ]
  },
  {
   "cell_type": "code",
   "execution_count": 14,
   "id": "4c3df608",
   "metadata": {},
   "outputs": [
    {
     "data": {
      "text/html": [
       "<div>\n",
       "<style scoped>\n",
       "    .dataframe tbody tr th:only-of-type {\n",
       "        vertical-align: middle;\n",
       "    }\n",
       "\n",
       "    .dataframe tbody tr th {\n",
       "        vertical-align: top;\n",
       "    }\n",
       "\n",
       "    .dataframe thead th {\n",
       "        text-align: right;\n",
       "    }\n",
       "</style>\n",
       "<table border=\"1\" class=\"dataframe\">\n",
       "  <thead>\n",
       "    <tr style=\"text-align: right;\">\n",
       "      <th></th>\n",
       "      <th>event</th>\n",
       "      <th>date</th>\n",
       "      <th>count(event)</th>\n",
       "      <th>total_events</th>\n",
       "    </tr>\n",
       "  </thead>\n",
       "  <tbody>\n",
       "    <tr>\n",
       "      <th>0</th>\n",
       "      <td>preview</td>\n",
       "      <td>2021-08-19</td>\n",
       "      <td>3788</td>\n",
       "      <td>28531</td>\n",
       "    </tr>\n",
       "    <tr>\n",
       "      <th>1</th>\n",
       "      <td>preview</td>\n",
       "      <td>2021-08-20</td>\n",
       "      <td>4222</td>\n",
       "      <td>28531</td>\n",
       "    </tr>\n",
       "    <tr>\n",
       "      <th>2</th>\n",
       "      <td>preview</td>\n",
       "      <td>2021-08-21</td>\n",
       "      <td>4663</td>\n",
       "      <td>28531</td>\n",
       "    </tr>\n",
       "    <tr>\n",
       "      <th>3</th>\n",
       "      <td>preview</td>\n",
       "      <td>2021-08-22</td>\n",
       "      <td>4349</td>\n",
       "      <td>28531</td>\n",
       "    </tr>\n",
       "    <tr>\n",
       "      <th>4</th>\n",
       "      <td>preview</td>\n",
       "      <td>2021-08-23</td>\n",
       "      <td>3847</td>\n",
       "      <td>28531</td>\n",
       "    </tr>\n",
       "    <tr>\n",
       "      <th>5</th>\n",
       "      <td>preview</td>\n",
       "      <td>2021-08-24</td>\n",
       "      <td>3840</td>\n",
       "      <td>28531</td>\n",
       "    </tr>\n",
       "    <tr>\n",
       "      <th>6</th>\n",
       "      <td>preview</td>\n",
       "      <td>2021-08-25</td>\n",
       "      <td>3822</td>\n",
       "      <td>28531</td>\n",
       "    </tr>\n",
       "  </tbody>\n",
       "</table>\n",
       "</div>"
      ],
      "text/plain": [
       "     event        date  count(event)  total_events\n",
       "0  preview  2021-08-19          3788         28531\n",
       "1  preview  2021-08-20          4222         28531\n",
       "2  preview  2021-08-21          4663         28531\n",
       "3  preview  2021-08-22          4349         28531\n",
       "4  preview  2021-08-23          3847         28531\n",
       "5  preview  2021-08-24          3840         28531\n",
       "6  preview  2021-08-25          3822         28531"
      ]
     },
     "execution_count": 14,
     "metadata": {},
     "output_type": "execute_result"
    }
   ],
   "source": [
    "total_preview = pd.read_sql_query(\"select event, date, count(event), (select count(event)from events where event = 'preview')total_events from events where event = 'preview' group by event,date\",con)\n",
    "total_preview"
   ]
  },
  {
   "cell_type": "markdown",
   "id": "5fec9fcc",
   "metadata": {},
   "source": [
    "Which countries did the pageviews come from?"
   ]
  },
  {
   "cell_type": "code",
   "execution_count": 15,
   "id": "215c0192",
   "metadata": {},
   "outputs": [
    {
     "name": "stdout",
     "output_type": "stream",
     "text": [
      "     count(event)                   country\n",
      "0           28873              Saudi Arabia\n",
      "1           27286                     India\n",
      "2           20839             United States\n",
      "3            9674                    France\n",
      "4            4897                      Iraq\n",
      "..            ...                       ...\n",
      "207             1    Principality of Monaco\n",
      "208             1                   Lesotho\n",
      "209             1             Guinea-Bissau\n",
      "210             1                  Guernsey\n",
      "211             1  Central African Republic\n",
      "\n",
      "[212 rows x 2 columns]\n"
     ]
    }
   ],
   "source": [
    "countries_pageviews = pd.read_sql_query(\"select count(event), country from events where event ='pageview' group by country order by count(event) desc\",con)\n",
    "print(countries_pageviews)"
   ]
  },
  {
   "cell_type": "code",
   "execution_count": 16,
   "id": "b1d314c7",
   "metadata": {},
   "outputs": [
    {
     "name": "stdout",
     "output_type": "stream",
     "text": [
      "     count(event)                   country\n",
      "0           11609                     India\n",
      "1            9533             United States\n",
      "2            9495              Saudi Arabia\n",
      "3            4054                    France\n",
      "4            1836                      Iraq\n",
      "..            ...                       ...\n",
      "198             1                  Dominica\n",
      "199             1  Central African Republic\n",
      "200             1       Antigua and Barbuda\n",
      "201             1            American Samoa\n",
      "202             1                      None\n",
      "\n",
      "[203 rows x 2 columns]\n"
     ]
    }
   ],
   "source": [
    "countries_click = pd.read_sql_query(\"select count(event), country from events where event ='click' group by country order by count(event) desc\",con)\n",
    "print(countries_click)"
   ]
  },
  {
   "cell_type": "code",
   "execution_count": 17,
   "id": "28a7dabb",
   "metadata": {},
   "outputs": [
    {
     "name": "stdout",
     "output_type": "stream",
     "text": [
      "     count(event)                 country\n",
      "0            8966            Saudi Arabia\n",
      "1            4097                   India\n",
      "2            2186           United States\n",
      "3            1933                  France\n",
      "4            1527                    Iraq\n",
      "..            ...                     ...\n",
      "179             1  British Virgin Islands\n",
      "180             1                  Belize\n",
      "181             1                   Aruba\n",
      "182             1                 Andorra\n",
      "183             1                    None\n",
      "\n",
      "[184 rows x 2 columns]\n"
     ]
    }
   ],
   "source": [
    "countries_preview = pd.read_sql_query(\"select count(event),country from events where event ='preview' group by country order by count(event) desc\",con)\n",
    "print(countries_preview)"
   ]
  },
  {
   "cell_type": "markdown",
   "id": "73b23fad",
   "metadata": {},
   "source": [
    "What was the overall click rate (clicks/pageviews)?"
   ]
  },
  {
   "cell_type": "code",
   "execution_count": 18,
   "id": "cea5081e",
   "metadata": {},
   "outputs": [
    {
     "name": "stdout",
     "output_type": "stream",
     "text": [
      "      event  overall_count\n",
      "0     click             24\n",
      "1  pageview             62\n",
      "2   preview             12\n"
     ]
    }
   ],
   "source": [
    "click_rate = pd.read_sql_query(\"select event, count(*)*100 /sum(count(*))over() overall_count from events group by event\",con)\n",
    "print(click_rate)"
   ]
  },
  {
   "cell_type": "code",
   "execution_count": 20,
   "id": "6a88a5b5",
   "metadata": {},
   "outputs": [
    {
     "name": "stdout",
     "output_type": "stream",
     "text": [
      "   SUM(CAST(A.click as FLOAT64)) / sum(CAST(B.pageview AS FLOAT64))\n",
      "0                                           0.397972               \n"
     ]
    }
   ],
   "source": [
    "clickrate = pd.read_sql_query(\"SELECT SUM(CAST(A.click as FLOAT64)) / sum(CAST(B.pageview AS FLOAT64))FROM (SELECT linkid, COUNT(1) click FROM events WHERE event ='click' GROUP BY linkid) A INNER JOIN (SELECT linkid, COUNT(1) pageview FROM events WHERE event ='pageview' GROUP BY linkid) B ON A.linkid = B.linkid\", con)\n",
    "print(clickrate)"
   ]
  },
  {
   "cell_type": "markdown",
   "id": "fdbc6491",
   "metadata": {},
   "source": [
    "How does the clickrate distribute across different links?"
   ]
  },
  {
   "cell_type": "code",
   "execution_count": 21,
   "id": "98d6894b",
   "metadata": {},
   "outputs": [
    {
     "name": "stdout",
     "output_type": "stream",
     "text": [
      "         event                                linkid  link_count\n",
      "0        click  2d896d31-97b6-4869-967b-1c5fb9cd4bb8       34867\n",
      "1        click  522da5cc-8177-4140-97a7-a84fdb4caf1c        8709\n",
      "2        click  e849515b-929d-44c8-a505-e7622f1827e9        8179\n",
      "3        click  c2c876ab-b093-4750-9449-6b4913da6af3        5732\n",
      "4        click  681d888a-59ce-4acb-b7c5-95dab0c063d9        4854\n",
      "...        ...                                   ...         ...\n",
      "3834  pageview  0062d109-f6f4-5637-8731-8ce38362c113           1\n",
      "3835  pageview  0038ff20-1ef7-5846-9f1a-4012fdf24da7           1\n",
      "3836  pageview  0034d6cf-3bd8-5ffe-aafc-b3959fc48608           1\n",
      "3837  pageview  0033934b-5d16-5a06-af58-d087bcdd3680           1\n",
      "3838  pageview  0018cfff-50a1-5984-9715-01ef2d11a49a           1\n",
      "\n",
      "[3839 rows x 3 columns]\n"
     ]
    }
   ],
   "source": [
    "overall = pd.read_sql_query(\"SELECT event, linkid,count(linkid) link_count from events where event In ('click','pageview')GROUP by linkid ORDER by link_count desc\",con)\n",
    "print(overall)"
   ]
  },
  {
   "cell_type": "code",
   "execution_count": 22,
   "id": "96dbb66c",
   "metadata": {},
   "outputs": [
    {
     "data": {
      "image/png": "[encoded data removed]",
      "text/plain": [
       "<Figure size 432x288 with 1 Axes>"
      ]
     },
     "metadata": {},
     "output_type": "display_data"
    }
   ],
   "source": [
    "\n",
    "sns.countplot(x='event',data=events_table, palette='hls')\n",
    "plt.show();"
   ]
  },
  {
   "cell_type": "code",
   "execution_count": 23,
   "id": "9fa7677c",
   "metadata": {},
   "outputs": [],
   "source": [
    "from sklearn.preprocessing import OrdinalEncoder\n",
    "ord_enc = OrdinalEncoder()\n",
    "events_table['event'] = ord_enc.fit_transform(events_table[[\"event\"]])"
   ]
  },
  {
   "cell_type": "code",
   "execution_count": 24,
   "id": "c9ad0445",
   "metadata": {},
   "outputs": [],
   "source": [
    "events_table['date'] = pd.to_datetime(events_table['date'], format='%Y-%m-%d')"
   ]
  },
  {
   "cell_type": "code",
   "execution_count": 25,
   "id": "b41e52f6",
   "metadata": {},
   "outputs": [
    {
     "data": {
      "image/png": "[encoded data removed]",
      "text/plain": [
       "<Figure size 864x432 with 1 Axes>"
      ]
     },
     "metadata": {},
     "output_type": "display_data"
    }
   ],
   "source": [
    "events_table.groupby('date').agg({'event':'sum'}).plot(figsize=(12,6))\n",
    "plt.ylabel('Number of clicks')\n",
    "plt.title('Number of clicks by date');"
   ]
  },
  {
   "cell_type": "code",
   "execution_count": 26,
   "id": "06343fed",
   "metadata": {},
   "outputs": [],
   "source": [
    "X = events_table.drop(['isrc','track','city'], axis=1)\n",
    "\n",
    "y = events_table['event']"
   ]
  },
  {
   "cell_type": "code",
   "execution_count": 27,
   "id": "cf721c27",
   "metadata": {},
   "outputs": [],
   "source": [
    "events_table = events_table[events_table['country'].notnull()]\n",
    "events_table = events_table[events_table['artist'].notnull()]\n",
    "events_table = events_table[events_table['album'].notnull()]\n"
   ]
  },
  {
   "cell_type": "code",
   "execution_count": 28,
   "id": "e41c164c",
   "metadata": {},
   "outputs": [
    {
     "data": {
      "text/plain": [
       "1.0    141980\n",
       "0.0     55720\n",
       "2.0     28530\n",
       "Name: event, dtype: int64"
      ]
     },
     "execution_count": 28,
     "metadata": {},
     "output_type": "execute_result"
    }
   ],
   "source": [
    "events_table.event.value_counts()"
   ]
  },
  {
   "cell_type": "code",
   "execution_count": 29,
   "id": "f1d1f202",
   "metadata": {},
   "outputs": [],
   "source": [
    "# split data into training and testing sets\n",
    "from sklearn.model_selection import train_test_split\n",
    "X_train, X_test, y_train, y_test = train_test_split(X, y, test_size = 0.33, random_state = 42)"
   ]
  },
  {
   "cell_type": "code",
   "execution_count": 30,
   "id": "fdbee42f",
   "metadata": {},
   "outputs": [],
   "source": [
    "#representation of categorical variables as binary vectors\n",
    "# Create the encoder.\n",
    "from sklearn.preprocessing import OneHotEncoder\n",
    "encoder = OneHotEncoder(handle_unknown=\"ignore\")\n",
    "encoder.fit(X_train)    \n",
    "# Apply the encoder.\n",
    "X_train = encoder.transform(X_train)\n",
    "X_test = encoder.transform(X_test)"
   ]
  },
  {
   "cell_type": "code",
   "execution_count": 31,
   "id": "4ad39de7",
   "metadata": {},
   "outputs": [
    {
     "name": "stdout",
     "output_type": "stream",
     "text": [
      "before Oversampling: Counter({1.0: 94981, 0.0: 37418, 2.0: 19207})\n",
      "After Oversampling: Counter({1.0: 94981, 2.0: 94981, 0.0: 94981})\n"
     ]
    }
   ],
   "source": [
    "#oversampling of the imbalanced data\n",
    "from imblearn.over_sampling import SMOTE\n",
    "from collections import Counter\n",
    "\n",
    "print('before Oversampling:',Counter(y_train))\n",
    "oversample = SMOTE()\n",
    "X_train, y_train = oversample.fit_resample(X_train, y_train)\n",
    "print('After Oversampling:',Counter(y_train))"
   ]
  },
  {
   "cell_type": "code",
   "execution_count": 32,
   "id": "df64c096",
   "metadata": {},
   "outputs": [],
   "source": [
    "#logistic regression model\n",
    "from sklearn.linear_model import LogisticRegression\n",
    "\n",
    "# Create an instance of the model. \n",
    "logreg = LogisticRegression() \n",
    "\n",
    "# Training the model. \n",
    "logreg.fit(X_train,y_train)\n",
    "\n",
    "# Do prediction. \n",
    "y_pred_reg=logreg.predict(X_test)"
   ]
  },
  {
   "cell_type": "code",
   "execution_count": 33,
   "id": "064ccb44",
   "metadata": {},
   "outputs": [],
   "source": [
    "from sklearn.metrics import accuracy_score\n",
    "from sklearn.metrics import classification_report\n",
    "from sklearn.metrics import confusion_matrix"
   ]
  },
  {
   "cell_type": "code",
   "execution_count": 34,
   "id": "4378f5e9",
   "metadata": {},
   "outputs": [
    {
     "name": "stdout",
     "output_type": "stream",
     "text": [
      "Model accuracy score : 1.0000\n"
     ]
    }
   ],
   "source": [
    "print('Model accuracy score : {0:0.4f}'. format(accuracy_score(y_test, y_pred_reg)))"
   ]
  },
  {
   "cell_type": "code",
   "execution_count": 35,
   "id": "dd86202d",
   "metadata": {},
   "outputs": [
    {
     "data": {
      "image/png": "[encoded data removed]",
      "text/plain": [
       "<Figure size 432x288 with 2 Axes>"
      ]
     },
     "metadata": {},
     "output_type": "display_data"
    }
   ],
   "source": [
    "cm = confusion_matrix(y_test, y_pred_reg)\n",
    "sns.heatmap(cm, annot=True, fmt='g')\n",
    "plt.xlabel(\"Predicted Values\")\n",
    "plt.ylabel(\"True Values\")\n",
    "plt.show()"
   ]
  },
  {
   "cell_type": "markdown",
   "id": "d2dae36f",
   "metadata": {},
   "source": [
    "categorical correlation between clicks and previews on a link"
   ]
  },
  {
   "cell_type": "code",
   "execution_count": 36,
   "id": "42eb86fc",
   "metadata": {},
   "outputs": [],
   "source": [
    "events_table1 = pd.read_sql_query(\"SELECT * FROM events\", con)"
   ]
  },
  {
   "cell_type": "code",
   "execution_count": 37,
   "id": "97457dda",
   "metadata": {
    "scrolled": true
   },
   "outputs": [
    {
     "data": {
      "text/html": [
       "<div>\n",
       "<style scoped>\n",
       "    .dataframe tbody tr th:only-of-type {\n",
       "        vertical-align: middle;\n",
       "    }\n",
       "\n",
       "    .dataframe tbody tr th {\n",
       "        vertical-align: top;\n",
       "    }\n",
       "\n",
       "    .dataframe thead th {\n",
       "        text-align: right;\n",
       "    }\n",
       "</style>\n",
       "<table border=\"1\" class=\"dataframe\">\n",
       "  <thead>\n",
       "    <tr style=\"text-align: right;\">\n",
       "      <th></th>\n",
       "      <th>event</th>\n",
       "      <th>date</th>\n",
       "      <th>country</th>\n",
       "      <th>city</th>\n",
       "      <th>artist</th>\n",
       "      <th>album</th>\n",
       "      <th>track</th>\n",
       "      <th>isrc</th>\n",
       "      <th>linkid</th>\n",
       "    </tr>\n",
       "  </thead>\n",
       "  <tbody>\n",
       "    <tr>\n",
       "      <th>0</th>\n",
       "      <td>click</td>\n",
       "      <td>2021-08-21</td>\n",
       "      <td>Saudi Arabia</td>\n",
       "      <td>Jeddah</td>\n",
       "      <td>Tesher</td>\n",
       "      <td>Jalebi Baby</td>\n",
       "      <td>Jalebi Baby</td>\n",
       "      <td>QZNWQ2070741</td>\n",
       "      <td>2d896d31-97b6-4869-967b-1c5fb9cd4bb8</td>\n",
       "    </tr>\n",
       "    <tr>\n",
       "      <th>1</th>\n",
       "      <td>click</td>\n",
       "      <td>2021-08-21</td>\n",
       "      <td>Saudi Arabia</td>\n",
       "      <td>Jeddah</td>\n",
       "      <td>Tesher</td>\n",
       "      <td>Jalebi Baby</td>\n",
       "      <td>Jalebi Baby</td>\n",
       "      <td>QZNWQ2070741</td>\n",
       "      <td>2d896d31-97b6-4869-967b-1c5fb9cd4bb8</td>\n",
       "    </tr>\n",
       "    <tr>\n",
       "      <th>2</th>\n",
       "      <td>click</td>\n",
       "      <td>2021-08-21</td>\n",
       "      <td>India</td>\n",
       "      <td>Ludhiana</td>\n",
       "      <td>Reyanna Maria</td>\n",
       "      <td>So Pretty</td>\n",
       "      <td>So Pretty</td>\n",
       "      <td>USUM72100871</td>\n",
       "      <td>23199824-9cf5-4b98-942a-34965c3b0cc2</td>\n",
       "    </tr>\n",
       "    <tr>\n",
       "      <th>3</th>\n",
       "      <td>click</td>\n",
       "      <td>2021-08-21</td>\n",
       "      <td>France</td>\n",
       "      <td>Unknown</td>\n",
       "      <td>Simone &amp; Simaria, Sebastian Yatra</td>\n",
       "      <td>No Llores Más</td>\n",
       "      <td>No Llores Más</td>\n",
       "      <td>BRUM72003904</td>\n",
       "      <td>35573248-4e49-47c7-af80-08a960fa74cd</td>\n",
       "    </tr>\n",
       "    <tr>\n",
       "      <th>4</th>\n",
       "      <td>click</td>\n",
       "      <td>2021-08-21</td>\n",
       "      <td>Maldives</td>\n",
       "      <td>Malé</td>\n",
       "      <td>Tesher</td>\n",
       "      <td>Jalebi Baby</td>\n",
       "      <td>Jalebi Baby</td>\n",
       "      <td>QZNWQ2070741</td>\n",
       "      <td>2d896d31-97b6-4869-967b-1c5fb9cd4bb8</td>\n",
       "    </tr>\n",
       "  </tbody>\n",
       "</table>\n",
       "</div>"
      ],
      "text/plain": [
       "   event        date       country      city  \\\n",
       "0  click  2021-08-21  Saudi Arabia    Jeddah   \n",
       "1  click  2021-08-21  Saudi Arabia    Jeddah   \n",
       "2  click  2021-08-21         India  Ludhiana   \n",
       "3  click  2021-08-21        France   Unknown   \n",
       "4  click  2021-08-21      Maldives      Malé   \n",
       "\n",
       "                              artist          album          track  \\\n",
       "0                             Tesher    Jalebi Baby    Jalebi Baby   \n",
       "1                             Tesher    Jalebi Baby    Jalebi Baby   \n",
       "2                      Reyanna Maria      So Pretty      So Pretty   \n",
       "3  Simone & Simaria, Sebastian Yatra  No Llores Más  No Llores Más   \n",
       "4                             Tesher    Jalebi Baby    Jalebi Baby   \n",
       "\n",
       "           isrc                                linkid  \n",
       "0  QZNWQ2070741  2d896d31-97b6-4869-967b-1c5fb9cd4bb8  \n",
       "1  QZNWQ2070741  2d896d31-97b6-4869-967b-1c5fb9cd4bb8  \n",
       "2  USUM72100871  23199824-9cf5-4b98-942a-34965c3b0cc2  \n",
       "3  BRUM72003904  35573248-4e49-47c7-af80-08a960fa74cd  \n",
       "4  QZNWQ2070741  2d896d31-97b6-4869-967b-1c5fb9cd4bb8  "
      ]
     },
     "execution_count": 37,
     "metadata": {},
     "output_type": "execute_result"
    }
   ],
   "source": [
    "events_table1.head()\n"
   ]
  },
  {
   "cell_type": "code",
   "execution_count": 38,
   "id": "4468f8eb",
   "metadata": {},
   "outputs": [],
   "source": [
    "events_table1.drop(events_table1.index[events_table1['event'] == 'pageview'], inplace=True)"
   ]
  },
  {
   "cell_type": "code",
   "execution_count": 39,
   "id": "a5428972",
   "metadata": {},
   "outputs": [
    {
     "data": {
      "text/plain": [
       "click      55732\n",
       "preview    28531\n",
       "Name: event, dtype: int64"
      ]
     },
     "execution_count": 39,
     "metadata": {},
     "output_type": "execute_result"
    }
   ],
   "source": [
    "events_table1.event.value_counts()"
   ]
  },
  {
   "cell_type": "code",
   "execution_count": 40,
   "id": "13d9c3c4",
   "metadata": {},
   "outputs": [],
   "source": [
    "data_crosstab = pd.crosstab(events_table1['linkid'],\n",
    "                            events_table1['event'], \n",
    "                               margins = True,  margins_name=\"Total\")"
   ]
  },
  {
   "cell_type": "code",
   "execution_count": 41,
   "id": "ac010869",
   "metadata": {},
   "outputs": [
    {
     "name": "stdout",
     "output_type": "stream",
     "text": [
      "Contingency Table showing correlation between event and linkid\n"
     ]
    },
    {
     "data": {
      "text/html": [
       "<div>\n",
       "<style scoped>\n",
       "    .dataframe tbody tr th:only-of-type {\n",
       "        vertical-align: middle;\n",
       "    }\n",
       "\n",
       "    .dataframe tbody tr th {\n",
       "        vertical-align: top;\n",
       "    }\n",
       "\n",
       "    .dataframe thead th {\n",
       "        text-align: right;\n",
       "    }\n",
       "</style>\n",
       "<table border=\"1\" class=\"dataframe\">\n",
       "  <thead>\n",
       "    <tr style=\"text-align: right;\">\n",
       "      <th>event</th>\n",
       "      <th>click</th>\n",
       "      <th>preview</th>\n",
       "      <th>Total</th>\n",
       "    </tr>\n",
       "    <tr>\n",
       "      <th>linkid</th>\n",
       "      <th></th>\n",
       "      <th></th>\n",
       "      <th></th>\n",
       "    </tr>\n",
       "  </thead>\n",
       "  <tbody>\n",
       "    <tr>\n",
       "      <th>00126b32-0c35-507b-981c-02c80d2aa8e7</th>\n",
       "      <td>2</td>\n",
       "      <td>0</td>\n",
       "      <td>2</td>\n",
       "    </tr>\n",
       "    <tr>\n",
       "      <th>004b9724-abca-5481-b6e9-6148a7ca00a5</th>\n",
       "      <td>1</td>\n",
       "      <td>0</td>\n",
       "      <td>1</td>\n",
       "    </tr>\n",
       "    <tr>\n",
       "      <th>0063a982-41cd-5629-96d0-e1c4dd72ea11</th>\n",
       "      <td>2</td>\n",
       "      <td>0</td>\n",
       "      <td>2</td>\n",
       "    </tr>\n",
       "    <tr>\n",
       "      <th>006af6a0-1f0d-4b0c-93bf-756af9071c06</th>\n",
       "      <td>8</td>\n",
       "      <td>11</td>\n",
       "      <td>19</td>\n",
       "    </tr>\n",
       "    <tr>\n",
       "      <th>00759b81-3f04-4a61-b934-f8fb3185f4a0</th>\n",
       "      <td>3</td>\n",
       "      <td>1</td>\n",
       "      <td>4</td>\n",
       "    </tr>\n",
       "    <tr>\n",
       "      <th>...</th>\n",
       "      <td>...</td>\n",
       "      <td>...</td>\n",
       "      <td>...</td>\n",
       "    </tr>\n",
       "    <tr>\n",
       "      <th>fff38ca0-8043-50cd-a5f1-f65ebb7105c5</th>\n",
       "      <td>1</td>\n",
       "      <td>0</td>\n",
       "      <td>1</td>\n",
       "    </tr>\n",
       "    <tr>\n",
       "      <th>fff84c0e-90a1-59d8-9997-adc909d50e16</th>\n",
       "      <td>1</td>\n",
       "      <td>0</td>\n",
       "      <td>1</td>\n",
       "    </tr>\n",
       "    <tr>\n",
       "      <th>fffc17a7-f935-5d3e-bd3e-d761fd80d479</th>\n",
       "      <td>1</td>\n",
       "      <td>0</td>\n",
       "      <td>1</td>\n",
       "    </tr>\n",
       "    <tr>\n",
       "      <th>fffd0045-29de-522b-b5d8-35786363bf07</th>\n",
       "      <td>1</td>\n",
       "      <td>0</td>\n",
       "      <td>1</td>\n",
       "    </tr>\n",
       "    <tr>\n",
       "      <th>Total</th>\n",
       "      <td>55732</td>\n",
       "      <td>28531</td>\n",
       "      <td>84263</td>\n",
       "    </tr>\n",
       "  </tbody>\n",
       "</table>\n",
       "<p>2287 rows × 3 columns</p>\n",
       "</div>"
      ],
      "text/plain": [
       "event                                 click  preview  Total\n",
       "linkid                                                     \n",
       "00126b32-0c35-507b-981c-02c80d2aa8e7      2        0      2\n",
       "004b9724-abca-5481-b6e9-6148a7ca00a5      1        0      1\n",
       "0063a982-41cd-5629-96d0-e1c4dd72ea11      2        0      2\n",
       "006af6a0-1f0d-4b0c-93bf-756af9071c06      8       11     19\n",
       "00759b81-3f04-4a61-b934-f8fb3185f4a0      3        1      4\n",
       "...                                     ...      ...    ...\n",
       "fff38ca0-8043-50cd-a5f1-f65ebb7105c5      1        0      1\n",
       "fff84c0e-90a1-59d8-9997-adc909d50e16      1        0      1\n",
       "fffc17a7-f935-5d3e-bd3e-d761fd80d479      1        0      1\n",
       "fffd0045-29de-522b-b5d8-35786363bf07      1        0      1\n",
       "Total                                 55732    28531  84263\n",
       "\n",
       "[2287 rows x 3 columns]"
      ]
     },
     "execution_count": 41,
     "metadata": {},
     "output_type": "execute_result"
    }
   ],
   "source": [
    "print(\"Contingency Table showing correlation between event and linkid\")\n",
    "data_crosstab"
   ]
  },
  {
   "cell_type": "markdown",
   "id": "6d093f13",
   "metadata": {},
   "source": [
    "Chi-square test"
   ]
  },
  {
   "cell_type": "markdown",
   "id": "8ff61a5a",
   "metadata": {},
   "source": [
    "#H₀: whether link and event (click, pageview) are independent, i.e. no relationship\n",
    "\n",
    "#H₁: whether link and event (click, pageview) are dependent, i.e. there is relationship"
   ]
  },
  {
   "cell_type": "code",
   "execution_count": 42,
   "id": "fc506714",
   "metadata": {},
   "outputs": [
    {
     "name": "stdout",
     "output_type": "stream",
     "text": [
      "The p-value approach to hypothesis testing in the decision rule\n",
      "chisquare-score is: 4575.328439792997  and p value is: 0.0\n",
      "Null Hypothesis is rejected.\n"
     ]
    }
   ],
   "source": [
    "import scipy.stats as stats\n",
    "# significance level\n",
    "alpha = 0.05\n",
    "\n",
    "# Calcualtion of Chisquare test statistics\n",
    "chi_square = 0\n",
    "rows = events_table1['linkid'].unique()\n",
    "columns = events_table1['event'].unique()\n",
    "for i in columns:\n",
    "    for j in rows:\n",
    "        O = data_crosstab[i][j]\n",
    "        E = data_crosstab[i]['Total'] * data_crosstab['Total'][j] / data_crosstab['Total']['Total']\n",
    "        chi_square += (O-E)**2/E\n",
    "\n",
    "# The p-value approach\n",
    "print(\"The p-value approach to hypothesis testing in the decision rule\")\n",
    "p_value = 1 - stats.norm.cdf(chi_square, (len(rows)-1)*(len(columns)-1))\n",
    "conclusion = \"Failed to reject the null hypothesis.\"\n",
    "if p_value <= alpha:\n",
    "    conclusion = \"Null Hypothesis is rejected.\"\n",
    "        \n",
    "print(\"chisquare-score is:\", chi_square, \" and p value is:\", p_value)\n",
    "print(conclusion)\n"
   ]
  },
  {
   "cell_type": "markdown",
   "id": "f299a120",
   "metadata": {},
   "source": [
    "Conclusion: The above calculation gives the evidence that there is an association between link and event, at 5% significance level.\n"
   ]
  }
 ],
 "metadata": {
  "kernelspec": {
   "display_name": "Python 3 (ipykernel)",
   "language": "python",
   "name": "python3"
  },
  "language_info": {
   "codemirror_mode": {
    "name": "ipython",
    "version": 3
   },
   "file_extension": ".py",
   "mimetype": "text/x-python",
   "name": "python",
   "nbconvert_exporter": "python",
   "pygments_lexer": "ipython3",
   "version": "3.9.7"
  }
 },
 "nbformat": 4,
 "nbformat_minor": 5
}
